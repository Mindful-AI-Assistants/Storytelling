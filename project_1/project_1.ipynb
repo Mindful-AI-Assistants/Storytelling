{
 "cells": [
  {
   "cell_type": "markdown",
   "metadata": {},
   "source": [
    "### Atividade - 18/03/2024\n",
    "**Prof. Dr. Rooney R. A. Coelho**\n",
    "\n",
    "\n",
    "Dadas as funções definidas por $f(x)=3 x-1$ e $g(x)=x^2$\n",
    "\n",
    "Determine o gráfico das funções no intervalo $x \\in [-3,3]$:\n",
    "\n",
    "a) $(f \\circ g)(x)$ \n",
    "\n",
    "b) $(g \\circ f)(x)$\n",
    "\n",
    "\n",
    "Instruções: Faça equipes de até 5 integrantes e escreva os códigos comentados em linguagem Python"
   ]
  },
  {
   "cell_type": "markdown",
   "metadata": {},
   "source": [
    "Integrantes:\n",
    "\n",
    "1.\n",
    "2.\n",
    "3.\n",
    "4.\n",
    "5."
   ]
  },
  {
   "cell_type": "code",
   "execution_count": null,
   "metadata": {},
   "outputs": [],
   "source": [
    "# Importe todas as dependências aqui"
   ]
  },
  {
   "cell_type": "code",
   "execution_count": null,
   "metadata": {},
   "outputs": [],
   "source": [
    "# Escreva as definições de funções documentadas aqui"
   ]
  },
  {
   "cell_type": "markdown",
   "metadata": {},
   "source": [
    "Dica: gerando os pontos espaçados\n",
    "\n",
    "```python\n",
    "import numpy as np\n",
    "\n",
    "# Exemplo de como criar 50 pontos definidos em [-3,2]\n",
    "x = np.linspace(-3,2,50)\n",
    "\n",
    "```\n",
    "\n",
    "Dica: lineplot simples\n",
    "```python\n",
    "import matplotlib.pyplot as plt\n",
    "\n",
    "# aqui x e y são listas ou array. É preciso calcular y usando suas funções\n",
    "plt.plot(x,y)\n",
    "\n",
    "```"
   ]
  },
  {
   "cell_type": "code",
   "execution_count": null,
   "metadata": {},
   "outputs": [],
   "source": [
    "# Defina o código para a geração do gráfico aqui"
   ]
  }
 ],
 "metadata": {
  "language_info": {
   "name": "python"
  }
 },
 "nbformat": 4,
 "nbformat_minor": 2
}
